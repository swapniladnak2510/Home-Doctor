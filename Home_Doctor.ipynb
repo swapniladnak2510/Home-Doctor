{
  "nbformat": 4,
  "nbformat_minor": 0,
  "metadata": {
    "colab": {
      "name": "Home Doctor.ipynb",
      "provenance": [],
      "authorship_tag": "ABX9TyNgmIK7yQn6Ux9EcwTUrfka",
      "include_colab_link": true
    },
    "kernelspec": {
      "display_name": "Python 3",
      "name": "python3"
    },
    "language_info": {
      "name": "python"
    }
  },
  "cells": [
    {
      "cell_type": "markdown",
      "metadata": {
        "id": "view-in-github",
        "colab_type": "text"
      },
      "source": [
        "<a href=\"https://colab.research.google.com/github/swapniladnak2510/Home-Doctor/blob/main/Home_Doctor.ipynb\" target=\"_parent\"><img src=\"https://colab.research.google.com/assets/colab-badge.svg\" alt=\"Open In Colab\"/></a>"
      ]
    },
    {
      "cell_type": "code",
      "metadata": {
        "id": "GRzcZBfIFKB1"
      },
      "source": [
        "!pip install -q kaggle"
      ],
      "execution_count": 1,
      "outputs": []
    },
    {
      "cell_type": "code",
      "metadata": {
        "colab": {
          "resources": {
            "http://localhost:8080/nbextensions/google.colab/files.js": {
              "data": "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",
              "ok": true,
              "headers": [
                [
                  "content-type",
                  "application/javascript"
                ]
              ],
              "status": 200,
              "status_text": ""
            }
          },
          "base_uri": "https://localhost:8080/",
          "height": 91
        },
        "id": "j0yjUNjHFQnf",
        "collapsed": true,
        "outputId": "d77ab851-e99e-4480-985d-5789633f1144"
      },
      "source": [
        "from google.colab import files\n",
        "files.upload()"
      ],
      "execution_count": 2,
      "outputs": [
        {
          "output_type": "display_data",
          "data": {
            "text/html": [
              "\n",
              "     <input type=\"file\" id=\"files-f9590b77-d3a2-42dd-b456-5f7af9e49a96\" name=\"files[]\" multiple disabled\n",
              "        style=\"border:none\" />\n",
              "     <output id=\"result-f9590b77-d3a2-42dd-b456-5f7af9e49a96\">\n",
              "      Upload widget is only available when the cell has been executed in the\n",
              "      current browser session. Please rerun this cell to enable.\n",
              "      </output>\n",
              "      <script src=\"/nbextensions/google.colab/files.js\"></script> "
            ],
            "text/plain": [
              "<IPython.core.display.HTML object>"
            ]
          },
          "metadata": {
            "tags": []
          }
        },
        {
          "output_type": "stream",
          "text": [
            "Saving kaggle.json to kaggle.json\n"
          ],
          "name": "stdout"
        },
        {
          "output_type": "execute_result",
          "data": {
            "text/plain": [
              "{'kaggle.json': b'{\"username\":\"swapniladnak\",\"key\":\"046dd31dfe1979bb060573653376d43f\"}'}"
            ]
          },
          "metadata": {
            "tags": []
          },
          "execution_count": 2
        }
      ]
    },
    {
      "cell_type": "code",
      "metadata": {
        "id": "svjh7pBLFX2E"
      },
      "source": [
        "! mkdir ~/.kaggle\n",
        "! cp kaggle.json ~/.kaggle/"
      ],
      "execution_count": 3,
      "outputs": []
    },
    {
      "cell_type": "code",
      "metadata": {
        "id": "vKQMJVK7FeXd"
      },
      "source": [
        "! chmod 600 ~/.kaggle/kaggle.json"
      ],
      "execution_count": 4,
      "outputs": []
    },
    {
      "cell_type": "code",
      "metadata": {
        "colab": {
          "base_uri": "https://localhost:8080/"
        },
        "id": "h0oQtT0sFhbu",
        "collapsed": true,
        "outputId": "df0efda3-b1b9-45cf-cf97-1f34357b07fa"
      },
      "source": [
        "! kaggle datasets download -d neelima98/disease-prediction-using-machine-learning\n",
        "! kaggle datasets download -d itachi9604/disease-symptom-description-dataset"
      ],
      "execution_count": 5,
      "outputs": [
        {
          "output_type": "stream",
          "text": [
            "Downloading disease-prediction-using-machine-learning.zip to /content\n",
            "\r  0% 0.00/29.6k [00:00<?, ?B/s]\n",
            "100% 29.6k/29.6k [00:00<00:00, 10.3MB/s]\n",
            "Downloading disease-symptom-description-dataset.zip to /content\n",
            "  0% 0.00/30.1k [00:00<?, ?B/s]\n",
            "100% 30.1k/30.1k [00:00<00:00, 11.2MB/s]\n"
          ],
          "name": "stdout"
        }
      ]
    },
    {
      "cell_type": "code",
      "metadata": {
        "id": "-5_mOkcpFwBu"
      },
      "source": [
        "! unzip -q /content/disease-symptom-description-dataset.zip\n",
        "! unzip -q /content/disease-prediction-using-machine-learning.zip"
      ],
      "execution_count": 6,
      "outputs": []
    },
    {
      "cell_type": "code",
      "metadata": {
        "id": "1NQVvmF5F5mj",
        "colab": {
          "base_uri": "https://localhost:8080/"
        },
        "collapsed": true,
        "outputId": "c7dc39b1-7717-434b-a93d-dc386eaeb402"
      },
      "source": [
        "import pandas as pd\n",
        "import numpy as np\n",
        "from sklearn.tree import DecisionTreeClassifier\n",
        "from sklearn.ensemble import RandomForestClassifier\n",
        "from sklearn.model_selection import train_test_split\n",
        "from sklearn.preprocessing import LabelEncoder\n",
        "from sklearn.externals import joblib"
      ],
      "execution_count": 7,
      "outputs": [
        {
          "output_type": "stream",
          "text": [
            "/usr/local/lib/python3.7/dist-packages/sklearn/externals/joblib/__init__.py:15: FutureWarning: sklearn.externals.joblib is deprecated in 0.21 and will be removed in 0.23. Please import this functionality directly from joblib, which can be installed with: pip install joblib. If this warning is raised when loading pickled models, you may need to re-serialize those models with scikit-learn 0.21+.\n",
            "  warnings.warn(msg, category=FutureWarning)\n"
          ],
          "name": "stderr"
        }
      ]
    },
    {
      "cell_type": "code",
      "metadata": {
        "id": "EYmO768WIhsi"
      },
      "source": [
        "df=pd.read_csv(\"/content/Training.csv\")\n",
        "test=pd.read_csv(\"/content/Testing.csv\")"
      ],
      "execution_count": 8,
      "outputs": []
    },
    {
      "cell_type": "code",
      "metadata": {
        "id": "ePboASR2JGhb",
        "colab": {
          "base_uri": "https://localhost:8080/",
          "height": 359
        },
        "collapsed": true,
        "outputId": "bb684992-06e1-4116-e19e-c1ec7faf4d2a"
      },
      "source": [
        "df.head()"
      ],
      "execution_count": 9,
      "outputs": [
        {
          "output_type": "execute_result",
          "data": {
            "text/html": [
              "<div>\n",
              "<style scoped>\n",
              "    .dataframe tbody tr th:only-of-type {\n",
              "        vertical-align: middle;\n",
              "    }\n",
              "\n",
              "    .dataframe tbody tr th {\n",
              "        vertical-align: top;\n",
              "    }\n",
              "\n",
              "    .dataframe thead th {\n",
              "        text-align: right;\n",
              "    }\n",
              "</style>\n",
              "<table border=\"1\" class=\"dataframe\">\n",
              "  <thead>\n",
              "    <tr style=\"text-align: right;\">\n",
              "      <th></th>\n",
              "      <th>itching</th>\n",
              "      <th>skin_rash</th>\n",
              "      <th>nodal_skin_eruptions</th>\n",
              "      <th>continuous_sneezing</th>\n",
              "      <th>shivering</th>\n",
              "      <th>chills</th>\n",
              "      <th>joint_pain</th>\n",
              "      <th>stomach_pain</th>\n",
              "      <th>acidity</th>\n",
              "      <th>ulcers_on_tongue</th>\n",
              "      <th>muscle_wasting</th>\n",
              "      <th>vomiting</th>\n",
              "      <th>burning_micturition</th>\n",
              "      <th>spotting_ urination</th>\n",
              "      <th>fatigue</th>\n",
              "      <th>weight_gain</th>\n",
              "      <th>anxiety</th>\n",
              "      <th>cold_hands_and_feets</th>\n",
              "      <th>mood_swings</th>\n",
              "      <th>weight_loss</th>\n",
              "      <th>restlessness</th>\n",
              "      <th>lethargy</th>\n",
              "      <th>patches_in_throat</th>\n",
              "      <th>irregular_sugar_level</th>\n",
              "      <th>cough</th>\n",
              "      <th>high_fever</th>\n",
              "      <th>sunken_eyes</th>\n",
              "      <th>breathlessness</th>\n",
              "      <th>sweating</th>\n",
              "      <th>dehydration</th>\n",
              "      <th>indigestion</th>\n",
              "      <th>headache</th>\n",
              "      <th>yellowish_skin</th>\n",
              "      <th>dark_urine</th>\n",
              "      <th>nausea</th>\n",
              "      <th>loss_of_appetite</th>\n",
              "      <th>pain_behind_the_eyes</th>\n",
              "      <th>back_pain</th>\n",
              "      <th>constipation</th>\n",
              "      <th>abdominal_pain</th>\n",
              "      <th>...</th>\n",
              "      <th>internal_itching</th>\n",
              "      <th>toxic_look_(typhos)</th>\n",
              "      <th>depression</th>\n",
              "      <th>irritability</th>\n",
              "      <th>muscle_pain</th>\n",
              "      <th>altered_sensorium</th>\n",
              "      <th>red_spots_over_body</th>\n",
              "      <th>belly_pain</th>\n",
              "      <th>abnormal_menstruation</th>\n",
              "      <th>dischromic _patches</th>\n",
              "      <th>watering_from_eyes</th>\n",
              "      <th>increased_appetite</th>\n",
              "      <th>polyuria</th>\n",
              "      <th>family_history</th>\n",
              "      <th>mucoid_sputum</th>\n",
              "      <th>rusty_sputum</th>\n",
              "      <th>lack_of_concentration</th>\n",
              "      <th>visual_disturbances</th>\n",
              "      <th>receiving_blood_transfusion</th>\n",
              "      <th>receiving_unsterile_injections</th>\n",
              "      <th>coma</th>\n",
              "      <th>stomach_bleeding</th>\n",
              "      <th>distention_of_abdomen</th>\n",
              "      <th>history_of_alcohol_consumption</th>\n",
              "      <th>fluid_overload.1</th>\n",
              "      <th>blood_in_sputum</th>\n",
              "      <th>prominent_veins_on_calf</th>\n",
              "      <th>palpitations</th>\n",
              "      <th>painful_walking</th>\n",
              "      <th>pus_filled_pimples</th>\n",
              "      <th>blackheads</th>\n",
              "      <th>scurring</th>\n",
              "      <th>skin_peeling</th>\n",
              "      <th>silver_like_dusting</th>\n",
              "      <th>small_dents_in_nails</th>\n",
              "      <th>inflammatory_nails</th>\n",
              "      <th>blister</th>\n",
              "      <th>red_sore_around_nose</th>\n",
              "      <th>yellow_crust_ooze</th>\n",
              "      <th>prognosis</th>\n",
              "    </tr>\n",
              "  </thead>\n",
              "  <tbody>\n",
              "    <tr>\n",
              "      <th>0</th>\n",
              "      <td>1</td>\n",
              "      <td>1</td>\n",
              "      <td>1</td>\n",
              "      <td>0</td>\n",
              "      <td>0</td>\n",
              "      <td>0</td>\n",
              "      <td>0</td>\n",
              "      <td>0</td>\n",
              "      <td>0</td>\n",
              "      <td>0</td>\n",
              "      <td>0</td>\n",
              "      <td>0</td>\n",
              "      <td>0</td>\n",
              "      <td>0</td>\n",
              "      <td>0</td>\n",
              "      <td>0</td>\n",
              "      <td>0</td>\n",
              "      <td>0</td>\n",
              "      <td>0</td>\n",
              "      <td>0</td>\n",
              "      <td>0</td>\n",
              "      <td>0</td>\n",
              "      <td>0</td>\n",
              "      <td>0</td>\n",
              "      <td>0</td>\n",
              "      <td>0</td>\n",
              "      <td>0</td>\n",
              "      <td>0</td>\n",
              "      <td>0</td>\n",
              "      <td>0</td>\n",
              "      <td>0</td>\n",
              "      <td>0</td>\n",
              "      <td>0</td>\n",
              "      <td>0</td>\n",
              "      <td>0</td>\n",
              "      <td>0</td>\n",
              "      <td>0</td>\n",
              "      <td>0</td>\n",
              "      <td>0</td>\n",
              "      <td>0</td>\n",
              "      <td>...</td>\n",
              "      <td>0</td>\n",
              "      <td>0</td>\n",
              "      <td>0</td>\n",
              "      <td>0</td>\n",
              "      <td>0</td>\n",
              "      <td>0</td>\n",
              "      <td>0</td>\n",
              "      <td>0</td>\n",
              "      <td>0</td>\n",
              "      <td>1</td>\n",
              "      <td>0</td>\n",
              "      <td>0</td>\n",
              "      <td>0</td>\n",
              "      <td>0</td>\n",
              "      <td>0</td>\n",
              "      <td>0</td>\n",
              "      <td>0</td>\n",
              "      <td>0</td>\n",
              "      <td>0</td>\n",
              "      <td>0</td>\n",
              "      <td>0</td>\n",
              "      <td>0</td>\n",
              "      <td>0</td>\n",
              "      <td>0</td>\n",
              "      <td>0</td>\n",
              "      <td>0</td>\n",
              "      <td>0</td>\n",
              "      <td>0</td>\n",
              "      <td>0</td>\n",
              "      <td>0</td>\n",
              "      <td>0</td>\n",
              "      <td>0</td>\n",
              "      <td>0</td>\n",
              "      <td>0</td>\n",
              "      <td>0</td>\n",
              "      <td>0</td>\n",
              "      <td>0</td>\n",
              "      <td>0</td>\n",
              "      <td>0</td>\n",
              "      <td>Fungal infection</td>\n",
              "    </tr>\n",
              "    <tr>\n",
              "      <th>1</th>\n",
              "      <td>0</td>\n",
              "      <td>1</td>\n",
              "      <td>1</td>\n",
              "      <td>0</td>\n",
              "      <td>0</td>\n",
              "      <td>0</td>\n",
              "      <td>0</td>\n",
              "      <td>0</td>\n",
              "      <td>0</td>\n",
              "      <td>0</td>\n",
              "      <td>0</td>\n",
              "      <td>0</td>\n",
              "      <td>0</td>\n",
              "      <td>0</td>\n",
              "      <td>0</td>\n",
              "      <td>0</td>\n",
              "      <td>0</td>\n",
              "      <td>0</td>\n",
              "      <td>0</td>\n",
              "      <td>0</td>\n",
              "      <td>0</td>\n",
              "      <td>0</td>\n",
              "      <td>0</td>\n",
              "      <td>0</td>\n",
              "      <td>0</td>\n",
              "      <td>0</td>\n",
              "      <td>0</td>\n",
              "      <td>0</td>\n",
              "      <td>0</td>\n",
              "      <td>0</td>\n",
              "      <td>0</td>\n",
              "      <td>0</td>\n",
              "      <td>0</td>\n",
              "      <td>0</td>\n",
              "      <td>0</td>\n",
              "      <td>0</td>\n",
              "      <td>0</td>\n",
              "      <td>0</td>\n",
              "      <td>0</td>\n",
              "      <td>0</td>\n",
              "      <td>...</td>\n",
              "      <td>0</td>\n",
              "      <td>0</td>\n",
              "      <td>0</td>\n",
              "      <td>0</td>\n",
              "      <td>0</td>\n",
              "      <td>0</td>\n",
              "      <td>0</td>\n",
              "      <td>0</td>\n",
              "      <td>0</td>\n",
              "      <td>1</td>\n",
              "      <td>0</td>\n",
              "      <td>0</td>\n",
              "      <td>0</td>\n",
              "      <td>0</td>\n",
              "      <td>0</td>\n",
              "      <td>0</td>\n",
              "      <td>0</td>\n",
              "      <td>0</td>\n",
              "      <td>0</td>\n",
              "      <td>0</td>\n",
              "      <td>0</td>\n",
              "      <td>0</td>\n",
              "      <td>0</td>\n",
              "      <td>0</td>\n",
              "      <td>0</td>\n",
              "      <td>0</td>\n",
              "      <td>0</td>\n",
              "      <td>0</td>\n",
              "      <td>0</td>\n",
              "      <td>0</td>\n",
              "      <td>0</td>\n",
              "      <td>0</td>\n",
              "      <td>0</td>\n",
              "      <td>0</td>\n",
              "      <td>0</td>\n",
              "      <td>0</td>\n",
              "      <td>0</td>\n",
              "      <td>0</td>\n",
              "      <td>0</td>\n",
              "      <td>Fungal infection</td>\n",
              "    </tr>\n",
              "    <tr>\n",
              "      <th>2</th>\n",
              "      <td>1</td>\n",
              "      <td>0</td>\n",
              "      <td>1</td>\n",
              "      <td>0</td>\n",
              "      <td>0</td>\n",
              "      <td>0</td>\n",
              "      <td>0</td>\n",
              "      <td>0</td>\n",
              "      <td>0</td>\n",
              "      <td>0</td>\n",
              "      <td>0</td>\n",
              "      <td>0</td>\n",
              "      <td>0</td>\n",
              "      <td>0</td>\n",
              "      <td>0</td>\n",
              "      <td>0</td>\n",
              "      <td>0</td>\n",
              "      <td>0</td>\n",
              "      <td>0</td>\n",
              "      <td>0</td>\n",
              "      <td>0</td>\n",
              "      <td>0</td>\n",
              "      <td>0</td>\n",
              "      <td>0</td>\n",
              "      <td>0</td>\n",
              "      <td>0</td>\n",
              "      <td>0</td>\n",
              "      <td>0</td>\n",
              "      <td>0</td>\n",
              "      <td>0</td>\n",
              "      <td>0</td>\n",
              "      <td>0</td>\n",
              "      <td>0</td>\n",
              "      <td>0</td>\n",
              "      <td>0</td>\n",
              "      <td>0</td>\n",
              "      <td>0</td>\n",
              "      <td>0</td>\n",
              "      <td>0</td>\n",
              "      <td>0</td>\n",
              "      <td>...</td>\n",
              "      <td>0</td>\n",
              "      <td>0</td>\n",
              "      <td>0</td>\n",
              "      <td>0</td>\n",
              "      <td>0</td>\n",
              "      <td>0</td>\n",
              "      <td>0</td>\n",
              "      <td>0</td>\n",
              "      <td>0</td>\n",
              "      <td>1</td>\n",
              "      <td>0</td>\n",
              "      <td>0</td>\n",
              "      <td>0</td>\n",
              "      <td>0</td>\n",
              "      <td>0</td>\n",
              "      <td>0</td>\n",
              "      <td>0</td>\n",
              "      <td>0</td>\n",
              "      <td>0</td>\n",
              "      <td>0</td>\n",
              "      <td>0</td>\n",
              "      <td>0</td>\n",
              "      <td>0</td>\n",
              "      <td>0</td>\n",
              "      <td>0</td>\n",
              "      <td>0</td>\n",
              "      <td>0</td>\n",
              "      <td>0</td>\n",
              "      <td>0</td>\n",
              "      <td>0</td>\n",
              "      <td>0</td>\n",
              "      <td>0</td>\n",
              "      <td>0</td>\n",
              "      <td>0</td>\n",
              "      <td>0</td>\n",
              "      <td>0</td>\n",
              "      <td>0</td>\n",
              "      <td>0</td>\n",
              "      <td>0</td>\n",
              "      <td>Fungal infection</td>\n",
              "    </tr>\n",
              "    <tr>\n",
              "      <th>3</th>\n",
              "      <td>1</td>\n",
              "      <td>1</td>\n",
              "      <td>0</td>\n",
              "      <td>0</td>\n",
              "      <td>0</td>\n",
              "      <td>0</td>\n",
              "      <td>0</td>\n",
              "      <td>0</td>\n",
              "      <td>0</td>\n",
              "      <td>0</td>\n",
              "      <td>0</td>\n",
              "      <td>0</td>\n",
              "      <td>0</td>\n",
              "      <td>0</td>\n",
              "      <td>0</td>\n",
              "      <td>0</td>\n",
              "      <td>0</td>\n",
              "      <td>0</td>\n",
              "      <td>0</td>\n",
              "      <td>0</td>\n",
              "      <td>0</td>\n",
              "      <td>0</td>\n",
              "      <td>0</td>\n",
              "      <td>0</td>\n",
              "      <td>0</td>\n",
              "      <td>0</td>\n",
              "      <td>0</td>\n",
              "      <td>0</td>\n",
              "      <td>0</td>\n",
              "      <td>0</td>\n",
              "      <td>0</td>\n",
              "      <td>0</td>\n",
              "      <td>0</td>\n",
              "      <td>0</td>\n",
              "      <td>0</td>\n",
              "      <td>0</td>\n",
              "      <td>0</td>\n",
              "      <td>0</td>\n",
              "      <td>0</td>\n",
              "      <td>0</td>\n",
              "      <td>...</td>\n",
              "      <td>0</td>\n",
              "      <td>0</td>\n",
              "      <td>0</td>\n",
              "      <td>0</td>\n",
              "      <td>0</td>\n",
              "      <td>0</td>\n",
              "      <td>0</td>\n",
              "      <td>0</td>\n",
              "      <td>0</td>\n",
              "      <td>1</td>\n",
              "      <td>0</td>\n",
              "      <td>0</td>\n",
              "      <td>0</td>\n",
              "      <td>0</td>\n",
              "      <td>0</td>\n",
              "      <td>0</td>\n",
              "      <td>0</td>\n",
              "      <td>0</td>\n",
              "      <td>0</td>\n",
              "      <td>0</td>\n",
              "      <td>0</td>\n",
              "      <td>0</td>\n",
              "      <td>0</td>\n",
              "      <td>0</td>\n",
              "      <td>0</td>\n",
              "      <td>0</td>\n",
              "      <td>0</td>\n",
              "      <td>0</td>\n",
              "      <td>0</td>\n",
              "      <td>0</td>\n",
              "      <td>0</td>\n",
              "      <td>0</td>\n",
              "      <td>0</td>\n",
              "      <td>0</td>\n",
              "      <td>0</td>\n",
              "      <td>0</td>\n",
              "      <td>0</td>\n",
              "      <td>0</td>\n",
              "      <td>0</td>\n",
              "      <td>Fungal infection</td>\n",
              "    </tr>\n",
              "    <tr>\n",
              "      <th>4</th>\n",
              "      <td>1</td>\n",
              "      <td>1</td>\n",
              "      <td>1</td>\n",
              "      <td>0</td>\n",
              "      <td>0</td>\n",
              "      <td>0</td>\n",
              "      <td>0</td>\n",
              "      <td>0</td>\n",
              "      <td>0</td>\n",
              "      <td>0</td>\n",
              "      <td>0</td>\n",
              "      <td>0</td>\n",
              "      <td>0</td>\n",
              "      <td>0</td>\n",
              "      <td>0</td>\n",
              "      <td>0</td>\n",
              "      <td>0</td>\n",
              "      <td>0</td>\n",
              "      <td>0</td>\n",
              "      <td>0</td>\n",
              "      <td>0</td>\n",
              "      <td>0</td>\n",
              "      <td>0</td>\n",
              "      <td>0</td>\n",
              "      <td>0</td>\n",
              "      <td>0</td>\n",
              "      <td>0</td>\n",
              "      <td>0</td>\n",
              "      <td>0</td>\n",
              "      <td>0</td>\n",
              "      <td>0</td>\n",
              "      <td>0</td>\n",
              "      <td>0</td>\n",
              "      <td>0</td>\n",
              "      <td>0</td>\n",
              "      <td>0</td>\n",
              "      <td>0</td>\n",
              "      <td>0</td>\n",
              "      <td>0</td>\n",
              "      <td>0</td>\n",
              "      <td>...</td>\n",
              "      <td>0</td>\n",
              "      <td>0</td>\n",
              "      <td>0</td>\n",
              "      <td>0</td>\n",
              "      <td>0</td>\n",
              "      <td>0</td>\n",
              "      <td>0</td>\n",
              "      <td>0</td>\n",
              "      <td>0</td>\n",
              "      <td>0</td>\n",
              "      <td>0</td>\n",
              "      <td>0</td>\n",
              "      <td>0</td>\n",
              "      <td>0</td>\n",
              "      <td>0</td>\n",
              "      <td>0</td>\n",
              "      <td>0</td>\n",
              "      <td>0</td>\n",
              "      <td>0</td>\n",
              "      <td>0</td>\n",
              "      <td>0</td>\n",
              "      <td>0</td>\n",
              "      <td>0</td>\n",
              "      <td>0</td>\n",
              "      <td>0</td>\n",
              "      <td>0</td>\n",
              "      <td>0</td>\n",
              "      <td>0</td>\n",
              "      <td>0</td>\n",
              "      <td>0</td>\n",
              "      <td>0</td>\n",
              "      <td>0</td>\n",
              "      <td>0</td>\n",
              "      <td>0</td>\n",
              "      <td>0</td>\n",
              "      <td>0</td>\n",
              "      <td>0</td>\n",
              "      <td>0</td>\n",
              "      <td>0</td>\n",
              "      <td>Fungal infection</td>\n",
              "    </tr>\n",
              "  </tbody>\n",
              "</table>\n",
              "<p>5 rows × 133 columns</p>\n",
              "</div>"
            ],
            "text/plain": [
              "   itching  skin_rash  ...  yellow_crust_ooze         prognosis\n",
              "0        1          1  ...                  0  Fungal infection\n",
              "1        0          1  ...                  0  Fungal infection\n",
              "2        1          0  ...                  0  Fungal infection\n",
              "3        1          1  ...                  0  Fungal infection\n",
              "4        1          1  ...                  0  Fungal infection\n",
              "\n",
              "[5 rows x 133 columns]"
            ]
          },
          "metadata": {
            "tags": []
          },
          "execution_count": 9
        }
      ]
    },
    {
      "cell_type": "code",
      "metadata": {
        "colab": {
          "base_uri": "https://localhost:8080/"
        },
        "id": "PAmEY2FOJH5m",
        "collapsed": true,
        "outputId": "f2b2af20-5d90-4568-bf98-f26522b3b575"
      },
      "source": [
        "for col in df.columns:\n",
        "  if(df[col].nunique()==1):\n",
        "    print(col)"
      ],
      "execution_count": 10,
      "outputs": [
        {
          "output_type": "stream",
          "text": [
            "fluid_overload\n"
          ],
          "name": "stdout"
        }
      ]
    },
    {
      "cell_type": "code",
      "metadata": {
        "colab": {
          "base_uri": "https://localhost:8080/"
        },
        "id": "WhdJrsL2JOwA",
        "collapsed": true,
        "outputId": "f0ae9fa6-ba8d-49b9-fa00-00670bbf8cb6"
      },
      "source": [
        "df['fluid_overload'].value_counts()"
      ],
      "execution_count": 11,
      "outputs": [
        {
          "output_type": "execute_result",
          "data": {
            "text/plain": [
              "0    4920\n",
              "Name: fluid_overload, dtype: int64"
            ]
          },
          "metadata": {
            "tags": []
          },
          "execution_count": 11
        }
      ]
    },
    {
      "cell_type": "code",
      "metadata": {
        "colab": {
          "base_uri": "https://localhost:8080/"
        },
        "id": "FZ10NvHPJzwi",
        "collapsed": true,
        "outputId": "4f135208-0605-416e-cb99-9ae770ee2c27"
      },
      "source": [
        "test['fluid_overload'].value_counts()"
      ],
      "execution_count": 12,
      "outputs": [
        {
          "output_type": "execute_result",
          "data": {
            "text/plain": [
              "0    41\n",
              "Name: fluid_overload, dtype: int64"
            ]
          },
          "metadata": {
            "tags": []
          },
          "execution_count": 12
        }
      ]
    },
    {
      "cell_type": "code",
      "metadata": {
        "id": "A-UTS_KTKAen"
      },
      "source": [
        "df.drop(['fluid_overload'],axis=1,inplace=True)\n",
        "test.drop(['fluid_overload'],axis=1,inplace=True)"
      ],
      "execution_count": 13,
      "outputs": []
    },
    {
      "cell_type": "code",
      "metadata": {
        "id": "gKunw8giLZmd",
        "colab": {
          "base_uri": "https://localhost:8080/"
        },
        "collapsed": true,
        "outputId": "9a864500-b360-4f66-e6d6-7d9f7f51420d"
      },
      "source": [
        "for col in df.columns:\n",
        "  print(col.upper())"
      ],
      "execution_count": 14,
      "outputs": [
        {
          "output_type": "stream",
          "text": [
            "ITCHING\n",
            "SKIN_RASH\n",
            "NODAL_SKIN_ERUPTIONS\n",
            "CONTINUOUS_SNEEZING\n",
            "SHIVERING\n",
            "CHILLS\n",
            "JOINT_PAIN\n",
            "STOMACH_PAIN\n",
            "ACIDITY\n",
            "ULCERS_ON_TONGUE\n",
            "MUSCLE_WASTING\n",
            "VOMITING\n",
            "BURNING_MICTURITION\n",
            "SPOTTING_ URINATION\n",
            "FATIGUE\n",
            "WEIGHT_GAIN\n",
            "ANXIETY\n",
            "COLD_HANDS_AND_FEETS\n",
            "MOOD_SWINGS\n",
            "WEIGHT_LOSS\n",
            "RESTLESSNESS\n",
            "LETHARGY\n",
            "PATCHES_IN_THROAT\n",
            "IRREGULAR_SUGAR_LEVEL\n",
            "COUGH\n",
            "HIGH_FEVER\n",
            "SUNKEN_EYES\n",
            "BREATHLESSNESS\n",
            "SWEATING\n",
            "DEHYDRATION\n",
            "INDIGESTION\n",
            "HEADACHE\n",
            "YELLOWISH_SKIN\n",
            "DARK_URINE\n",
            "NAUSEA\n",
            "LOSS_OF_APPETITE\n",
            "PAIN_BEHIND_THE_EYES\n",
            "BACK_PAIN\n",
            "CONSTIPATION\n",
            "ABDOMINAL_PAIN\n",
            "DIARRHOEA\n",
            "MILD_FEVER\n",
            "YELLOW_URINE\n",
            "YELLOWING_OF_EYES\n",
            "ACUTE_LIVER_FAILURE\n",
            "SWELLING_OF_STOMACH\n",
            "SWELLED_LYMPH_NODES\n",
            "MALAISE\n",
            "BLURRED_AND_DISTORTED_VISION\n",
            "PHLEGM\n",
            "THROAT_IRRITATION\n",
            "REDNESS_OF_EYES\n",
            "SINUS_PRESSURE\n",
            "RUNNY_NOSE\n",
            "CONGESTION\n",
            "CHEST_PAIN\n",
            "WEAKNESS_IN_LIMBS\n",
            "FAST_HEART_RATE\n",
            "PAIN_DURING_BOWEL_MOVEMENTS\n",
            "PAIN_IN_ANAL_REGION\n",
            "BLOODY_STOOL\n",
            "IRRITATION_IN_ANUS\n",
            "NECK_PAIN\n",
            "DIZZINESS\n",
            "CRAMPS\n",
            "BRUISING\n",
            "OBESITY\n",
            "SWOLLEN_LEGS\n",
            "SWOLLEN_BLOOD_VESSELS\n",
            "PUFFY_FACE_AND_EYES\n",
            "ENLARGED_THYROID\n",
            "BRITTLE_NAILS\n",
            "SWOLLEN_EXTREMETIES\n",
            "EXCESSIVE_HUNGER\n",
            "EXTRA_MARITAL_CONTACTS\n",
            "DRYING_AND_TINGLING_LIPS\n",
            "SLURRED_SPEECH\n",
            "KNEE_PAIN\n",
            "HIP_JOINT_PAIN\n",
            "MUSCLE_WEAKNESS\n",
            "STIFF_NECK\n",
            "SWELLING_JOINTS\n",
            "MOVEMENT_STIFFNESS\n",
            "SPINNING_MOVEMENTS\n",
            "LOSS_OF_BALANCE\n",
            "UNSTEADINESS\n",
            "WEAKNESS_OF_ONE_BODY_SIDE\n",
            "LOSS_OF_SMELL\n",
            "BLADDER_DISCOMFORT\n",
            "FOUL_SMELL_OF URINE\n",
            "CONTINUOUS_FEEL_OF_URINE\n",
            "PASSAGE_OF_GASES\n",
            "INTERNAL_ITCHING\n",
            "TOXIC_LOOK_(TYPHOS)\n",
            "DEPRESSION\n",
            "IRRITABILITY\n",
            "MUSCLE_PAIN\n",
            "ALTERED_SENSORIUM\n",
            "RED_SPOTS_OVER_BODY\n",
            "BELLY_PAIN\n",
            "ABNORMAL_MENSTRUATION\n",
            "DISCHROMIC _PATCHES\n",
            "WATERING_FROM_EYES\n",
            "INCREASED_APPETITE\n",
            "POLYURIA\n",
            "FAMILY_HISTORY\n",
            "MUCOID_SPUTUM\n",
            "RUSTY_SPUTUM\n",
            "LACK_OF_CONCENTRATION\n",
            "VISUAL_DISTURBANCES\n",
            "RECEIVING_BLOOD_TRANSFUSION\n",
            "RECEIVING_UNSTERILE_INJECTIONS\n",
            "COMA\n",
            "STOMACH_BLEEDING\n",
            "DISTENTION_OF_ABDOMEN\n",
            "HISTORY_OF_ALCOHOL_CONSUMPTION\n",
            "FLUID_OVERLOAD.1\n",
            "BLOOD_IN_SPUTUM\n",
            "PROMINENT_VEINS_ON_CALF\n",
            "PALPITATIONS\n",
            "PAINFUL_WALKING\n",
            "PUS_FILLED_PIMPLES\n",
            "BLACKHEADS\n",
            "SCURRING\n",
            "SKIN_PEELING\n",
            "SILVER_LIKE_DUSTING\n",
            "SMALL_DENTS_IN_NAILS\n",
            "INFLAMMATORY_NAILS\n",
            "BLISTER\n",
            "RED_SORE_AROUND_NOSE\n",
            "YELLOW_CRUST_OOZE\n",
            "PROGNOSIS\n"
          ],
          "name": "stdout"
        }
      ]
    },
    {
      "cell_type": "code",
      "metadata": {
        "id": "NS2mYblxMf-O"
      },
      "source": [
        "df.dropna(axis=0,inplace=True)\n",
        "test.dropna(axis=0,inplace=True)"
      ],
      "execution_count": 15,
      "outputs": []
    },
    {
      "cell_type": "code",
      "metadata": {
        "id": "j3RPmoSJNlEL"
      },
      "source": [
        "model=DecisionTreeClassifier(class_weight='balanced')"
      ],
      "execution_count": 16,
      "outputs": []
    },
    {
      "cell_type": "code",
      "metadata": {
        "id": "EoEez7b9OzNV"
      },
      "source": [
        "X=df[df.columns[:-1]]\n",
        "y=df[df.columns[-1]]"
      ],
      "execution_count": 17,
      "outputs": []
    },
    {
      "cell_type": "code",
      "metadata": {
        "id": "Yv2RH4jcQoW-"
      },
      "source": [
        "X_train, X_test, y_train, y_test = train_test_split(X, y, test_size=0.33, random_state=42)"
      ],
      "execution_count": 18,
      "outputs": []
    },
    {
      "cell_type": "code",
      "metadata": {
        "colab": {
          "base_uri": "https://localhost:8080/"
        },
        "id": "L4yb_9kFQ7za",
        "collapsed": true,
        "outputId": "90a6efdb-5f55-475e-f01b-aafa2fb2a684"
      },
      "source": [
        "print(X_train.shape)\n",
        "print(X_test.shape)"
      ],
      "execution_count": 19,
      "outputs": [
        {
          "output_type": "stream",
          "text": [
            "(3296, 131)\n",
            "(1624, 131)\n"
          ],
          "name": "stdout"
        }
      ]
    },
    {
      "cell_type": "code",
      "metadata": {
        "colab": {
          "base_uri": "https://localhost:8080/"
        },
        "id": "QwMwqTTzO39K",
        "collapsed": true,
        "outputId": "611f0d56-9631-4da2-8857-9927f41110c3"
      },
      "source": [
        "model.fit(X_train,y_train)"
      ],
      "execution_count": 20,
      "outputs": [
        {
          "output_type": "execute_result",
          "data": {
            "text/plain": [
              "DecisionTreeClassifier(ccp_alpha=0.0, class_weight='balanced', criterion='gini',\n",
              "                       max_depth=None, max_features=None, max_leaf_nodes=None,\n",
              "                       min_impurity_decrease=0.0, min_impurity_split=None,\n",
              "                       min_samples_leaf=1, min_samples_split=2,\n",
              "                       min_weight_fraction_leaf=0.0, presort='deprecated',\n",
              "                       random_state=None, splitter='best')"
            ]
          },
          "metadata": {
            "tags": []
          },
          "execution_count": 20
        }
      ]
    },
    {
      "cell_type": "code",
      "metadata": {
        "id": "pVCujFthPjT4"
      },
      "source": [
        "pred=model.predict(X_test)"
      ],
      "execution_count": 21,
      "outputs": []
    },
    {
      "cell_type": "code",
      "metadata": {
        "id": "LGdGTfXtPk6Q"
      },
      "source": [
        "from sklearn.metrics import classification_report,confusion_matrix"
      ],
      "execution_count": 22,
      "outputs": []
    },
    {
      "cell_type": "code",
      "metadata": {
        "id": "56eV6FJJP1w3",
        "colab": {
          "base_uri": "https://localhost:8080/"
        },
        "collapsed": true,
        "outputId": "7e299e2b-67d0-4ab7-ac67-6a48b740cfc7"
      },
      "source": [
        "print(classification_report(y_test,pred))"
      ],
      "execution_count": 23,
      "outputs": [
        {
          "output_type": "stream",
          "text": [
            "                                         precision    recall  f1-score   support\n",
            "\n",
            "(vertigo) Paroymsal  Positional Vertigo       1.00      1.00      1.00        37\n",
            "                                   AIDS       1.00      1.00      1.00        42\n",
            "                                   Acne       1.00      1.00      1.00        42\n",
            "                    Alcoholic hepatitis       1.00      1.00      1.00        40\n",
            "                                Allergy       1.00      1.00      1.00        36\n",
            "                              Arthritis       1.00      1.00      1.00        42\n",
            "                       Bronchial Asthma       1.00      1.00      1.00        48\n",
            "                   Cervical spondylosis       1.00      1.00      1.00        37\n",
            "                            Chicken pox       1.00      1.00      1.00        38\n",
            "                    Chronic cholestasis       1.00      1.00      1.00        31\n",
            "                            Common Cold       1.00      1.00      1.00        34\n",
            "                                 Dengue       1.00      1.00      1.00        46\n",
            "                              Diabetes        1.00      1.00      1.00        35\n",
            "           Dimorphic hemmorhoids(piles)       1.00      1.00      1.00        50\n",
            "                          Drug Reaction       1.00      1.00      1.00        38\n",
            "                       Fungal infection       1.00      1.00      1.00        33\n",
            "                                   GERD       1.00      1.00      1.00        43\n",
            "                        Gastroenteritis       1.00      1.00      1.00        43\n",
            "                           Heart attack       1.00      1.00      1.00        42\n",
            "                            Hepatitis B       1.00      1.00      1.00        47\n",
            "                            Hepatitis C       1.00      1.00      1.00        40\n",
            "                            Hepatitis D       1.00      1.00      1.00        38\n",
            "                            Hepatitis E       1.00      1.00      1.00        50\n",
            "                          Hypertension        1.00      1.00      1.00        37\n",
            "                        Hyperthyroidism       1.00      1.00      1.00        42\n",
            "                           Hypoglycemia       1.00      1.00      1.00        44\n",
            "                         Hypothyroidism       1.00      1.00      1.00        38\n",
            "                               Impetigo       1.00      1.00      1.00        36\n",
            "                               Jaundice       1.00      1.00      1.00        37\n",
            "                                Malaria       1.00      1.00      1.00        35\n",
            "                               Migraine       1.00      1.00      1.00        39\n",
            "                        Osteoarthristis       1.00      1.00      1.00        30\n",
            "           Paralysis (brain hemorrhage)       1.00      1.00      1.00        38\n",
            "                    Peptic ulcer diseae       1.00      1.00      1.00        31\n",
            "                              Pneumonia       1.00      1.00      1.00        46\n",
            "                              Psoriasis       1.00      1.00      1.00        33\n",
            "                           Tuberculosis       1.00      1.00      1.00        40\n",
            "                                Typhoid       1.00      1.00      1.00        41\n",
            "                Urinary tract infection       1.00      1.00      1.00        41\n",
            "                         Varicose veins       1.00      1.00      1.00        40\n",
            "                            hepatitis A       1.00      1.00      1.00        44\n",
            "\n",
            "                               accuracy                           1.00      1624\n",
            "                              macro avg       1.00      1.00      1.00      1624\n",
            "                           weighted avg       1.00      1.00      1.00      1624\n",
            "\n"
          ],
          "name": "stdout"
        }
      ]
    },
    {
      "cell_type": "code",
      "metadata": {
        "id": "fGK3oRsQQSk7"
      },
      "source": [
        "model2=RandomForestClassifier(class_weight='balanced')"
      ],
      "execution_count": 24,
      "outputs": []
    },
    {
      "cell_type": "code",
      "metadata": {
        "colab": {
          "base_uri": "https://localhost:8080/"
        },
        "id": "n8-xXLA-RhkE",
        "collapsed": true,
        "outputId": "5c102d06-ca21-42a3-9721-50a52c67510a"
      },
      "source": [
        "model2.fit(X_train,y_train)"
      ],
      "execution_count": 25,
      "outputs": [
        {
          "output_type": "execute_result",
          "data": {
            "text/plain": [
              "RandomForestClassifier(bootstrap=True, ccp_alpha=0.0, class_weight='balanced',\n",
              "                       criterion='gini', max_depth=None, max_features='auto',\n",
              "                       max_leaf_nodes=None, max_samples=None,\n",
              "                       min_impurity_decrease=0.0, min_impurity_split=None,\n",
              "                       min_samples_leaf=1, min_samples_split=2,\n",
              "                       min_weight_fraction_leaf=0.0, n_estimators=100,\n",
              "                       n_jobs=None, oob_score=False, random_state=None,\n",
              "                       verbose=0, warm_start=False)"
            ]
          },
          "metadata": {
            "tags": []
          },
          "execution_count": 25
        }
      ]
    },
    {
      "cell_type": "code",
      "metadata": {
        "id": "abv82-wBRlGp"
      },
      "source": [
        "pred=model2.predict(X_test)"
      ],
      "execution_count": 26,
      "outputs": []
    },
    {
      "cell_type": "code",
      "metadata": {
        "id": "K56za24-Ro2u",
        "colab": {
          "base_uri": "https://localhost:8080/"
        },
        "collapsed": true,
        "outputId": "a97846bf-d2eb-43b6-d73c-f7b6ded01454"
      },
      "source": [
        "print(classification_report(y_test,pred))"
      ],
      "execution_count": 27,
      "outputs": [
        {
          "output_type": "stream",
          "text": [
            "                                         precision    recall  f1-score   support\n",
            "\n",
            "(vertigo) Paroymsal  Positional Vertigo       1.00      1.00      1.00        37\n",
            "                                   AIDS       1.00      1.00      1.00        42\n",
            "                                   Acne       1.00      1.00      1.00        42\n",
            "                    Alcoholic hepatitis       1.00      1.00      1.00        40\n",
            "                                Allergy       1.00      1.00      1.00        36\n",
            "                              Arthritis       1.00      1.00      1.00        42\n",
            "                       Bronchial Asthma       1.00      1.00      1.00        48\n",
            "                   Cervical spondylosis       1.00      1.00      1.00        37\n",
            "                            Chicken pox       1.00      1.00      1.00        38\n",
            "                    Chronic cholestasis       1.00      1.00      1.00        31\n",
            "                            Common Cold       1.00      1.00      1.00        34\n",
            "                                 Dengue       1.00      1.00      1.00        46\n",
            "                              Diabetes        1.00      1.00      1.00        35\n",
            "           Dimorphic hemmorhoids(piles)       1.00      1.00      1.00        50\n",
            "                          Drug Reaction       1.00      1.00      1.00        38\n",
            "                       Fungal infection       1.00      1.00      1.00        33\n",
            "                                   GERD       1.00      1.00      1.00        43\n",
            "                        Gastroenteritis       1.00      1.00      1.00        43\n",
            "                           Heart attack       1.00      1.00      1.00        42\n",
            "                            Hepatitis B       1.00      1.00      1.00        47\n",
            "                            Hepatitis C       1.00      1.00      1.00        40\n",
            "                            Hepatitis D       1.00      1.00      1.00        38\n",
            "                            Hepatitis E       1.00      1.00      1.00        50\n",
            "                          Hypertension        1.00      1.00      1.00        37\n",
            "                        Hyperthyroidism       1.00      1.00      1.00        42\n",
            "                           Hypoglycemia       1.00      1.00      1.00        44\n",
            "                         Hypothyroidism       1.00      1.00      1.00        38\n",
            "                               Impetigo       1.00      1.00      1.00        36\n",
            "                               Jaundice       1.00      1.00      1.00        37\n",
            "                                Malaria       1.00      1.00      1.00        35\n",
            "                               Migraine       1.00      1.00      1.00        39\n",
            "                        Osteoarthristis       1.00      1.00      1.00        30\n",
            "           Paralysis (brain hemorrhage)       1.00      1.00      1.00        38\n",
            "                    Peptic ulcer diseae       1.00      1.00      1.00        31\n",
            "                              Pneumonia       1.00      1.00      1.00        46\n",
            "                              Psoriasis       1.00      1.00      1.00        33\n",
            "                           Tuberculosis       1.00      1.00      1.00        40\n",
            "                                Typhoid       1.00      1.00      1.00        41\n",
            "                Urinary tract infection       1.00      1.00      1.00        41\n",
            "                         Varicose veins       1.00      1.00      1.00        40\n",
            "                            hepatitis A       1.00      1.00      1.00        44\n",
            "\n",
            "                               accuracy                           1.00      1624\n",
            "                              macro avg       1.00      1.00      1.00      1624\n",
            "                           weighted avg       1.00      1.00      1.00      1624\n",
            "\n"
          ],
          "name": "stdout"
        }
      ]
    },
    {
      "cell_type": "code",
      "metadata": {
        "id": "zeMRTWILRrN7"
      },
      "source": [
        "import lightgbm as lgb"
      ],
      "execution_count": 28,
      "outputs": []
    },
    {
      "cell_type": "code",
      "metadata": {
        "id": "O3_oCiMTSfKa"
      },
      "source": [
        "model3=lgb.LGBMClassifier()"
      ],
      "execution_count": 29,
      "outputs": []
    },
    {
      "cell_type": "code",
      "metadata": {
        "colab": {
          "base_uri": "https://localhost:8080/"
        },
        "id": "kxmKhczhSjZN",
        "collapsed": true,
        "outputId": "7d606fc6-4943-447d-e0ca-0cc147c472ec"
      },
      "source": [
        "model3.fit(X_train,y_train)"
      ],
      "execution_count": 30,
      "outputs": [
        {
          "output_type": "execute_result",
          "data": {
            "text/plain": [
              "LGBMClassifier(boosting_type='gbdt', class_weight=None, colsample_bytree=1.0,\n",
              "               importance_type='split', learning_rate=0.1, max_depth=-1,\n",
              "               min_child_samples=20, min_child_weight=0.001, min_split_gain=0.0,\n",
              "               n_estimators=100, n_jobs=-1, num_leaves=31, objective=None,\n",
              "               random_state=None, reg_alpha=0.0, reg_lambda=0.0, silent=True,\n",
              "               subsample=1.0, subsample_for_bin=200000, subsample_freq=0)"
            ]
          },
          "metadata": {
            "tags": []
          },
          "execution_count": 30
        }
      ]
    },
    {
      "cell_type": "code",
      "metadata": {
        "id": "p7Yap6ErSsty"
      },
      "source": [
        "pred=model3.predict(X_test)"
      ],
      "execution_count": 31,
      "outputs": []
    },
    {
      "cell_type": "code",
      "metadata": {
        "id": "0pRNLTINSwm2",
        "colab": {
          "base_uri": "https://localhost:8080/"
        },
        "collapsed": true,
        "outputId": "91029cf5-72e6-4134-dc45-5ccfb27df805"
      },
      "source": [
        "print(classification_report(y_test,pred))"
      ],
      "execution_count": 32,
      "outputs": [
        {
          "output_type": "stream",
          "text": [
            "                                         precision    recall  f1-score   support\n",
            "\n",
            "(vertigo) Paroymsal  Positional Vertigo       1.00      1.00      1.00        37\n",
            "                                   AIDS       1.00      1.00      1.00        42\n",
            "                                   Acne       1.00      1.00      1.00        42\n",
            "                    Alcoholic hepatitis       1.00      1.00      1.00        40\n",
            "                                Allergy       1.00      1.00      1.00        36\n",
            "                              Arthritis       1.00      1.00      1.00        42\n",
            "                       Bronchial Asthma       1.00      1.00      1.00        48\n",
            "                   Cervical spondylosis       1.00      1.00      1.00        37\n",
            "                            Chicken pox       1.00      1.00      1.00        38\n",
            "                    Chronic cholestasis       1.00      1.00      1.00        31\n",
            "                            Common Cold       1.00      1.00      1.00        34\n",
            "                                 Dengue       1.00      1.00      1.00        46\n",
            "                              Diabetes        1.00      1.00      1.00        35\n",
            "           Dimorphic hemmorhoids(piles)       1.00      1.00      1.00        50\n",
            "                          Drug Reaction       1.00      1.00      1.00        38\n",
            "                       Fungal infection       1.00      1.00      1.00        33\n",
            "                                   GERD       1.00      1.00      1.00        43\n",
            "                        Gastroenteritis       1.00      1.00      1.00        43\n",
            "                           Heart attack       1.00      1.00      1.00        42\n",
            "                            Hepatitis B       1.00      1.00      1.00        47\n",
            "                            Hepatitis C       1.00      1.00      1.00        40\n",
            "                            Hepatitis D       1.00      1.00      1.00        38\n",
            "                            Hepatitis E       1.00      1.00      1.00        50\n",
            "                          Hypertension        1.00      1.00      1.00        37\n",
            "                        Hyperthyroidism       1.00      1.00      1.00        42\n",
            "                           Hypoglycemia       1.00      1.00      1.00        44\n",
            "                         Hypothyroidism       1.00      1.00      1.00        38\n",
            "                               Impetigo       1.00      1.00      1.00        36\n",
            "                               Jaundice       1.00      1.00      1.00        37\n",
            "                                Malaria       1.00      1.00      1.00        35\n",
            "                               Migraine       1.00      1.00      1.00        39\n",
            "                        Osteoarthristis       1.00      1.00      1.00        30\n",
            "           Paralysis (brain hemorrhage)       1.00      1.00      1.00        38\n",
            "                    Peptic ulcer diseae       1.00      1.00      1.00        31\n",
            "                              Pneumonia       1.00      1.00      1.00        46\n",
            "                              Psoriasis       1.00      1.00      1.00        33\n",
            "                           Tuberculosis       1.00      1.00      1.00        40\n",
            "                                Typhoid       1.00      1.00      1.00        41\n",
            "                Urinary tract infection       1.00      1.00      1.00        41\n",
            "                         Varicose veins       1.00      1.00      1.00        40\n",
            "                            hepatitis A       1.00      1.00      1.00        44\n",
            "\n",
            "                               accuracy                           1.00      1624\n",
            "                              macro avg       1.00      1.00      1.00      1624\n",
            "                           weighted avg       1.00      1.00      1.00      1624\n",
            "\n"
          ],
          "name": "stdout"
        }
      ]
    },
    {
      "cell_type": "code",
      "metadata": {
        "colab": {
          "base_uri": "https://localhost:8080/"
        },
        "id": "pSEytNNSSy5V",
        "collapsed": true,
        "outputId": "2cb0cf44-32a3-40e0-e2ca-97e88a666409"
      },
      "source": [
        "joblib.dump(model2,\"Random_forest.pkl\")"
      ],
      "execution_count": 33,
      "outputs": [
        {
          "output_type": "execute_result",
          "data": {
            "text/plain": [
              "['Random_forest.pkl']"
            ]
          },
          "metadata": {
            "tags": []
          },
          "execution_count": 33
        }
      ]
    },
    {
      "cell_type": "code",
      "metadata": {
        "id": "X6eV5V4za7Ws",
        "colab": {
          "base_uri": "https://localhost:8080/"
        },
        "collapsed": true,
        "outputId": "7b79c686-0b70-4a41-dc4c-c4a838657a67"
      },
      "source": [
        "joblib.dump(model3,\"lightgbm.pkl\")"
      ],
      "execution_count": 34,
      "outputs": [
        {
          "output_type": "execute_result",
          "data": {
            "text/plain": [
              "['lightgbm.pkl']"
            ]
          },
          "metadata": {
            "tags": []
          },
          "execution_count": 34
        }
      ]
    },
    {
      "cell_type": "code",
      "metadata": {
        "id": "PsyczNp0UHrl",
        "colab": {
          "base_uri": "https://localhost:8080/"
        },
        "collapsed": true,
        "outputId": "9fe40fe5-ec7c-443a-c9e9-1cfc8af08fe2"
      },
      "source": [
        "!pip install streamlit -q"
      ],
      "execution_count": 35,
      "outputs": [
        {
          "output_type": "stream",
          "text": [
            "\u001b[K     |████████████████████████████████| 7.8MB 4.3MB/s \n",
            "\u001b[K     |████████████████████████████████| 112kB 49.6MB/s \n",
            "\u001b[K     |████████████████████████████████| 4.2MB 41.9MB/s \n",
            "\u001b[K     |████████████████████████████████| 81kB 9.4MB/s \n",
            "\u001b[K     |████████████████████████████████| 174kB 51.3MB/s \n",
            "\u001b[K     |████████████████████████████████| 122kB 49.5MB/s \n",
            "\u001b[K     |████████████████████████████████| 71kB 8.4MB/s \n",
            "\u001b[?25h  Building wheel for blinker (setup.py) ... \u001b[?25l\u001b[?25hdone\n",
            "\u001b[31mERROR: google-colab 1.0.0 has requirement ipykernel~=4.10, but you'll have ipykernel 5.5.5 which is incompatible.\u001b[0m\n"
          ],
          "name": "stdout"
        }
      ]
    },
    {
      "cell_type": "code",
      "metadata": {
        "colab": {
          "base_uri": "https://localhost:8080/"
        },
        "id": "2b7MrDgzUZbA",
        "collapsed": true,
        "outputId": "1040a1e1-f712-4f1b-b333-bb91129d5285"
      },
      "source": [
        "!wget https://bin.equinox.io/c/4VmDzA7iaHb/ngrok-stable-linux-amd64.zip\n",
        "!unzip -qq ngrok-stable-linux-amd64.zip"
      ],
      "execution_count": 36,
      "outputs": [
        {
          "output_type": "stream",
          "text": [
            "--2021-06-30 05:43:34--  https://bin.equinox.io/c/4VmDzA7iaHb/ngrok-stable-linux-amd64.zip\n",
            "Resolving bin.equinox.io (bin.equinox.io)... 54.87.76.159, 3.223.73.198, 34.196.34.225, ...\n",
            "Connecting to bin.equinox.io (bin.equinox.io)|54.87.76.159|:443... connected.\n",
            "HTTP request sent, awaiting response... 200 OK\n",
            "Length: 13832437 (13M) [application/octet-stream]\n",
            "Saving to: ‘ngrok-stable-linux-amd64.zip’\n",
            "\n",
            "ngrok-stable-linux- 100%[===================>]  13.19M  5.95MB/s    in 2.2s    \n",
            "\n",
            "2021-06-30 05:43:37 (5.95 MB/s) - ‘ngrok-stable-linux-amd64.zip’ saved [13832437/13832437]\n",
            "\n"
          ],
          "name": "stdout"
        }
      ]
    },
    {
      "cell_type": "code",
      "metadata": {
        "id": "WIWMHaDcUjIV"
      },
      "source": [
        "get_ipython().system_raw('./ngrok http 8501&')"
      ],
      "execution_count": 43,
      "outputs": []
    },
    {
      "cell_type": "code",
      "metadata": {
        "id": "pPyMMUSufrLd"
      },
      "source": [
        ""
      ],
      "execution_count": 43,
      "outputs": []
    },
    {
      "cell_type": "code",
      "metadata": {
        "colab": {
          "base_uri": "https://localhost:8080/"
        },
        "id": "I_AYH5_9UmGK",
        "collapsed": true,
        "outputId": "4f85fc11-8e3c-40df-803a-c906ebdb2153"
      },
      "source": [
        "!curl -s http://localhost:4040/api/tunnels | python3 -c \\\n",
        "    'import sys, json; print(\"Execute the next cell and the go to the following URL: \" +json.load(sys.stdin)[\"tunnels\"][0][\"public_url\"])'"
      ],
      "execution_count": 45,
      "outputs": [
        {
          "output_type": "stream",
          "text": [
            "Execute the next cell and the go to the following URL: http://3d14f6109689.ngrok.io\n"
          ],
          "name": "stdout"
        }
      ]
    },
    {
      "cell_type": "code",
      "metadata": {
        "colab": {
          "base_uri": "https://localhost:8080/"
        },
        "id": "xE-qiBBbUofX",
        "collapsed": true,
        "outputId": "085dfe14-5c50-4774-916c-6e66efbd4692"
      },
      "source": [
        "!streamlit run /content/front.py"
      ],
      "execution_count": 46,
      "outputs": [
        {
          "output_type": "stream",
          "text": [
            "/usr/local/lib/python3.7/dist-packages/sklearn/externals/joblib/__init__.py:15: FutureWarning: sklearn.externals.joblib is deprecated in 0.21 and will be removed in 0.23. Please import this functionality directly from joblib, which can be installed with: pip install joblib. If this warning is raised when loading pickled models, you may need to re-serialize those models with scikit-learn 0.21+.\n",
            "  warnings.warn(msg, category=FutureWarning)\n",
            "\u001b[0m\n",
            "\u001b[34m\u001b[1m  You can now view your Streamlit app in your browser.\u001b[0m\n",
            "\u001b[0m\n",
            "\u001b[34m  Network URL: \u001b[0m\u001b[1mhttp://172.28.0.2:8501\u001b[0m\n",
            "\u001b[34m  External URL: \u001b[0m\u001b[1mhttp://35.194.222.127:8501\u001b[0m\n",
            "\u001b[0m\n",
            "Empty DataFrame\n",
            "Columns: [Description]\n",
            "Index: []\n",
            "Empty DataFrame\n",
            "Columns: [Disease, Precaution_1, Precaution_2, Precaution_3, Precaution_4]\n",
            "Index: []\n",
            "Diabetes\n",
            "Empty DataFrame\n",
            "Columns: [Disease, Precaution_1, Precaution_2, Precaution_3, Precaution_4]\n",
            "Index: []\n",
            "\u001b[34m  Stopping...\u001b[0m\n",
            "\u001b[34m  Stopping...\u001b[0m\n"
          ],
          "name": "stdout"
        }
      ]
    },
    {
      "cell_type": "code",
      "metadata": {
        "id": "cfw5OqnSU4un"
      },
      "source": [
        "y"
      ],
      "execution_count": null,
      "outputs": []
    }
  ]
}